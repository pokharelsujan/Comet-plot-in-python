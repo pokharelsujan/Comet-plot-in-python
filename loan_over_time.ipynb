import matplotlib.pyplot as plt
import matplotlib.animation as animation
import numpy as np
%matplotlib notebook 
x_0 = 80000
x_n = []

fig, ax = plt.subplots()

def animate(i):
    global x_0, x_n
    x_0 = x_0 + 0.01 * x_0 - 880.87
    x_n.append(x_0)
    if x_0 <= 0:
        return
    ax.clear()
    ax.plot(np.arange(1, len(x_n) + 1), x_n, '-b', label='Trace of path')
    ax.scatter(len(x_n), x_n[-1], color='red', s=100, label='Latest Point')
    ax.set_xlabel('Months')
    ax.set_ylabel('Remaining amount')
    ax.set_title('Loan value over Time')
    ax.legend(loc='best')
    ax.set_xlim(0, 260)
    ax.set_ylim(0,80000)
    ax.text(0.05, 0.9, f' Loan amount = {x_n[-1]:.2f},Months= {(len(x_n) + 1)}', transform=ax.transAxes)

anim= animation.FuncAnimation(fig, animate, interval=0.05)
plt.show()
